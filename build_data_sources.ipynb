{
 "cells": [
  {
   "cell_type": "code",
   "execution_count": 1,
   "metadata": {},
   "outputs": [],
   "source": [
    "import warnings\n",
    "warnings.filterwarnings('ignore')"
   ]
  },
  {
   "cell_type": "code",
   "execution_count": 2,
   "metadata": {},
   "outputs": [],
   "source": [
    "%matplotlib inline\n",
    "import gzip\n",
    "import shutil\n",
    "from struct import unpack\n",
    "from collections import namedtuple, Counter, defaultdict\n",
    "from pathlib import Path\n",
    "from urllib.request import urlretrieve\n",
    "from urllib.parse import urljoin\n",
    "from datetime import timedelta\n",
    "from time import time\n",
    "\n",
    "import pandas as pd\n",
    "\n",
    "import matplotlib.pyplot as plt\n",
    "from matplotlib.ticker import FuncFormatter\n",
    "import seaborn as sns"
   ]
  },
  {
   "cell_type": "code",
   "execution_count": 14,
   "metadata": {},
   "outputs": [],
   "source": [
    "def format_time(t):\n",
    "    ''' \n",
    "    Return a formatted time string (HH:MM::SS) based on a numeric time() value\n",
    "    '''\n",
    "    m, s = divmod(t,60)\n",
    "    h, m = divmod(m, 60)\n",
    "\n",
    "    return f'{h:0>2.0f}:{m:0>2.0f}:{s:0>5.2f}'"
   ]
  },
  {
   "cell_type": "code",
   "execution_count": 23,
   "metadata": {},
   "outputs": [
    {
     "name": "stdout",
     "output_type": "stream",
     "text": [
      "data\\order_book.h5\n"
     ]
    }
   ],
   "source": [
    "data_path = Path('data')\n",
    "itch_store = str(data_path / 'itch.h5')\n",
    "order_book_store = data_path / 'order_book.h5'      "
   ]
  },
  {
   "cell_type": "code",
   "execution_count": 24,
   "metadata": {},
   "outputs": [],
   "source": [
    "HTTPS_URL = 'https://emi.nasdaq.com/ITCH/Nasdaq%20ITCH/'\n",
    "SOURCE_FILE = '10302019.NASDAQ_ITCH50.gz'"
   ]
  },
  {
   "cell_type": "code",
   "execution_count": 27,
   "metadata": {},
   "outputs": [],
   "source": [
    "def may_be_download(url):\n",
    "    ''' \n",
    "    Download & unzip ITCH data if not yet available\n",
    "    '''\n",
    "    if not data_path.exists():\n",
    "        print(\"Creating Directory\")\n",
    "        data_path.mkdir()\n",
    "    else:\n",
    "        print(\"Directory Exists\")\n",
    "\n",
    "    filename = data_path / url.split('/')[-1]\n",
    "    if not filename.exists():\n",
    "        print(\"Downloading...\", url)\n",
    "        urlretrieve(url, filename)\n",
    "    else:\n",
    "        print(\"File Exists\")\n",
    "\n",
    "    unzipped = data_path / (filename.stem + '.bin')\n",
    "    if not unzipped.exists():\n",
    "        print('Unzipping to', unzipped)\n",
    "        with gzip.open(str(filename), 'rb') as f_in:\n",
    "            with open(unzipped, 'wb') as f_out:\n",
    "                shutil.copyfileobj(f_in, f_out)\n",
    "    else:\n",
    "        print(\"File Already Unpacked\")\n",
    "    return unzipped"
   ]
  },
  {
   "cell_type": "code",
   "execution_count": null,
   "metadata": {},
   "outputs": [],
   "source": [
    "file_name = may_be_download(urljoin(HTTPS_URL, SOURCE_FILE))\n",
    "date = file_name.name.split('.')[0]"
   ]
  }
 ],
 "metadata": {
  "kernelspec": {
   "display_name": "Python 3",
   "language": "python",
   "name": "python3"
  },
  "language_info": {
   "codemirror_mode": {
    "name": "ipython",
    "version": 3
   },
   "file_extension": ".py",
   "mimetype": "text/x-python",
   "name": "python",
   "nbconvert_exporter": "python",
   "pygments_lexer": "ipython3",
   "version": "3.9.9"
  }
 },
 "nbformat": 4,
 "nbformat_minor": 2
}
